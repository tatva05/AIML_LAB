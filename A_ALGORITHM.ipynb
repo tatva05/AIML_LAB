{
  "nbformat": 4,
  "nbformat_minor": 0,
  "metadata": {
    "colab": {
      "provenance": [],
      "authorship_tag": "ABX9TyOQOvELxvjO22oQr+2Uqymm",
      "include_colab_link": true
    },
    "kernelspec": {
      "name": "python3",
      "display_name": "Python 3"
    },
    "language_info": {
      "name": "python"
    }
  },
  "cells": [
    {
      "cell_type": "markdown",
      "metadata": {
        "id": "view-in-github",
        "colab_type": "text"
      },
      "source": [
        "<a href=\"https://colab.research.google.com/github/tatva05/AIML_LAB/blob/main/A_ALGORITHM.ipynb\" target=\"_parent\"><img src=\"https://colab.research.google.com/assets/colab-badge.svg\" alt=\"Open In Colab\"/></a>"
      ]
    },
    {
      "cell_type": "code",
      "execution_count": null,
      "metadata": {
        "id": "9Yr4Mq4rRK8R"
      },
      "outputs": [],
      "source": [
        "import heapq\n",
        "\n",
        "# Manhattan distance heuristic\n",
        "def heuristic(a, b):\n",
        "    return abs(a[0] - b[0]) + abs(a[1] - b[1])\n",
        "\n",
        "# A* algorithm\n",
        "def a_star_search(graph, start, goal):\n",
        "    # Priority queue for the open set (nodes to explore)\n",
        "    open_set = []\n",
        "    heapq.heappush(open_set, (0, start))\n",
        "\n",
        "    # Dictionaries for tracking the best path and cost to reach nodes\n",
        "    came_from = {}\n",
        "    g_score = {start: 0}\n",
        "\n",
        "    # g_score[start] + heuristic(start, goal)\n",
        "    f_score = {start: heuristic(start, goal)}\n",
        "\n",
        "    while open_set:\n",
        "        # Get the node with the lowest f_score\n",
        "        current = heapq.heappop(open_set)[1]\n",
        "\n",
        "        # If the goal is reached, reconstruct the path\n",
        "        if current == goal:\n",
        "            return reconstruct_path(came_from, current)\n",
        "\n",
        "        # Explore neighbors\n",
        "        for neighbor in graph[current]:\n",
        "            tentative_g_score = g_score[current] + graph[current][neighbor]  # g_score = current cost + cost to neighbor\n",
        "\n",
        "            # If this path to neighbor is better, update the scores\n",
        "            if neighbor not in g_score or tentative_g_score < g_score[neighbor]:\n",
        "                came_from[neighbor] = current\n",
        "                g_score[neighbor] = tentative_g_score\n",
        "                f_score[neighbor] = g_score[neighbor] + heuristic(neighbor, goal)\n",
        "                heapq.heappush(open_set, (f_score[neighbor], neighbor))\n",
        "\n",
        "    return None  # No path found\n",
        "\n",
        "# Helper function to reconstruct the path from start to goal\n",
        "def reconstruct_path(came_from, current):\n",
        "    total_path = [current]\n",
        "    while current in came_from:\n",
        "        current = came_from[current]\n",
        "        total_path.append(current)\n",
        "    return total_path[::-1]  # Reverse the path to get it from start to goal\n",
        "\n",
        "# Example graph as a dictionary of dictionaries (adjacency list)\n",
        "graph = {\n",
        "    'A': {'B': 1, 'C': 3},\n",
        "    'B': {'A': 1, 'D': 1, 'E': 5},\n",
        "    'C': {'A': 3, 'F': 2},\n",
        "    'D': {'B': 1},\n",
        "    'E': {'B': 5, 'F': 1},\n",
        "    'F': {'C': 2, 'E': 1, 'G': 1},\n",
        "    'G': {'F': 1}\n",
        "}\n",
        "\n",
        "# Run the A* algorithm from node 'A' to 'G'\n",
        "start = 'A'\n",
        "goal = 'G'\n",
        "path = a_star_search(graph, start, goal)\n",
        "\n",
        "if path:\n",
        "    print(\"Path found:\", path)\n",
        "else:\n",
        "    print(\"No path found.\")\n"
      ]
    }
  ]
}