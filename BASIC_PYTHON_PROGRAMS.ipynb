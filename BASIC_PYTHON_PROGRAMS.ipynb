{
  "nbformat": 4,
  "nbformat_minor": 0,
  "metadata": {
    "colab": {
      "provenance": [],
      "authorship_tag": "ABX9TyMm32UzvRmW2S1lB6KY0PS5",
      "include_colab_link": true
    },
    "kernelspec": {
      "name": "python3",
      "display_name": "Python 3"
    },
    "language_info": {
      "name": "python"
    }
  },
  "cells": [
    {
      "cell_type": "markdown",
      "metadata": {
        "id": "view-in-github",
        "colab_type": "text"
      },
      "source": [
        "<a href=\"https://colab.research.google.com/github/tatva05/AIML_LAB/blob/main/BASIC_PYTHON_PROGRAMS.ipynb\" target=\"_parent\"><img src=\"https://colab.research.google.com/assets/colab-badge.svg\" alt=\"Open In Colab\"/></a>"
      ]
    },
    {
      "cell_type": "markdown",
      "source": [
        "1.Hello World Program"
      ],
      "metadata": {
        "id": "I9_uxqG5RnTf"
      }
    },
    {
      "cell_type": "code",
      "source": [
        "# Hello World program\n",
        "print(\"Hello, World!\")\n"
      ],
      "metadata": {
        "id": "z1779IjORq9T"
      },
      "execution_count": null,
      "outputs": []
    },
    {
      "cell_type": "markdown",
      "source": [
        "2. Basic Calculator"
      ],
      "metadata": {
        "id": "ypPfCuQYRs8n"
      }
    },
    {
      "cell_type": "code",
      "source": [
        "# Basic calculator\n",
        "def calculator():\n",
        "    print(\"Select operation:\")\n",
        "    print(\"1. Add\")\n",
        "    print(\"2. Subtract\")\n",
        "    print(\"3. Multiply\")\n",
        "    print(\"4. Divide\")\n",
        "\n",
        "    choice = input(\"Enter choice (1/2/3/4): \")\n",
        "\n",
        "    num1 = float(input(\"Enter first number: \"))\n",
        "    num2 = float(input(\"Enter second number: \"))\n",
        "\n",
        "    if choice == '1':\n",
        "        print(f\"{num1} + {num2} = {num1 + num2}\")\n",
        "    elif choice == '2':\n",
        "        print(f\"{num1} - {num2} = {num1 - num2}\")\n",
        "    elif choice == '3':\n",
        "        print(f\"{num1} * {num2} = {num1 * num2}\")\n",
        "    elif choice == '4':\n",
        "        if num2 != 0:\n",
        "            print(f\"{num1} / {num2} = {num1 / num2}\")\n",
        "        else:\n",
        "            print(\"Error! Division by zero.\")\n",
        "    else:\n",
        "        print(\"Invalid Input\")\n",
        "\n",
        "calculator()\n"
      ],
      "metadata": {
        "id": "f5RK2JoqRwMq"
      },
      "execution_count": null,
      "outputs": []
    },
    {
      "cell_type": "markdown",
      "source": [
        "3. Check if a Number is Prime"
      ],
      "metadata": {
        "id": "E5kw1V9fR04m"
      }
    },
    {
      "cell_type": "code",
      "source": [
        "# Check if a number is prime\n",
        "def is_prime(num):\n",
        "    if num <= 1:\n",
        "        return False\n",
        "    for i in range(2, int(num**0.5) + 1):\n",
        "        if num % i == 0:\n",
        "            return False\n",
        "    return True\n",
        "\n",
        "# Input number\n",
        "num = int(input(\"Enter a number: \"))\n",
        "\n",
        "if is_prime(num):\n",
        "    print(f\"{num} is a prime number.\")\n",
        "else:\n",
        "    print(f\"{num} is not a prime number.\")\n"
      ],
      "metadata": {
        "id": "14Dq6J9rR1Uh"
      },
      "execution_count": null,
      "outputs": []
    },
    {
      "cell_type": "markdown",
      "source": [
        "4. Fibonacci Sequence"
      ],
      "metadata": {
        "id": "hnIVNJo7R5A1"
      }
    },
    {
      "cell_type": "code",
      "source": [
        "# Fibonacci sequence\n",
        "def fibonacci(n):\n",
        "    a, b = 0, 1\n",
        "    print(\"Fibonacci sequence:\")\n",
        "    for _ in range(n):\n",
        "        print(a, end=' ')\n",
        "        a, b = b, a + b\n",
        "\n",
        "# Input number of terms\n",
        "n = int(input(\"Enter the number of terms: \"))\n",
        "fibonacci(n)\n"
      ],
      "metadata": {
        "id": "vhdOfnOSR7Ki"
      },
      "execution_count": null,
      "outputs": []
    },
    {
      "cell_type": "markdown",
      "source": [
        "5. Factorial of a Number"
      ],
      "metadata": {
        "id": "cUqTj8LqR82F"
      }
    },
    {
      "cell_type": "code",
      "source": [
        "# Factorial using recursion\n",
        "def factorial(n):\n",
        "    if n == 1 or n == 0:\n",
        "        return 1\n",
        "    return n * factorial(n - 1)\n",
        "\n",
        "# Input number\n",
        "num = int(input(\"Enter a number: \"))\n",
        "print(f\"Factorial of {num} is {factorial(num)}.\")\n"
      ],
      "metadata": {
        "id": "wPI5fAROR_1t"
      },
      "execution_count": null,
      "outputs": []
    },
    {
      "cell_type": "markdown",
      "source": [
        "6. Find the Largest of Three Numbers"
      ],
      "metadata": {
        "id": "jdeEhTY3SBoA"
      }
    },
    {
      "cell_type": "code",
      "source": [
        "# Find the largest of three numbers\n",
        "def find_largest(num1, num2, num3):\n",
        "    if num1 >= num2 and num1 >= num3:\n",
        "        return num1\n",
        "    elif num2 >= num1 and num2 >= num3:\n",
        "        return num2\n",
        "    else:\n",
        "        return num3\n",
        "\n",
        "# Input numbers\n",
        "num1 = float(input(\"Enter first number: \"))\n",
        "num2 = float(input(\"Enter second number: \"))\n",
        "num3 = float(input(\"Enter third number: \"))\n",
        "\n",
        "print(f\"The largest number is {find_largest(num1, num2, num3)}.\")\n"
      ],
      "metadata": {
        "id": "8zIZqd2MSD0F"
      },
      "execution_count": null,
      "outputs": []
    },
    {
      "cell_type": "markdown",
      "source": [
        "7. Palindrome Checker"
      ],
      "metadata": {
        "id": "Lze_mvlRSIpO"
      }
    },
    {
      "cell_type": "code",
      "source": [
        "# Palindrome checker\n",
        "def is_palindrome(s):\n",
        "    return s == s[::-1]\n",
        "\n",
        "# Input string\n",
        "string = input(\"Enter a string: \")\n",
        "\n",
        "if is_palindrome(string):\n",
        "    print(f\"'{string}' is a palindrome.\")\n",
        "else:\n",
        "    print(f\"'{string}' is not a palindrome.\")\n"
      ],
      "metadata": {
        "id": "vPiGx4FNSJDy"
      },
      "execution_count": null,
      "outputs": []
    },
    {
      "cell_type": "markdown",
      "source": [
        "8. Sum of a List of Numbers"
      ],
      "metadata": {
        "id": "BjZjPobISMia"
      }
    },
    {
      "cell_type": "code",
      "source": [
        "# Sum of a list\n",
        "def sum_of_list(numbers):\n",
        "    return sum(numbers)\n",
        "\n",
        "# Input list of numbers\n",
        "numbers = list(map(int, input(\"Enter numbers separated by spaces: \").split()))\n",
        "print(f\"The sum of the list is {sum_of_list(numbers)}.\")\n"
      ],
      "metadata": {
        "id": "8AO6cZBQSM8L"
      },
      "execution_count": null,
      "outputs": []
    },
    {
      "cell_type": "markdown",
      "source": [
        "9. Temperature Converter (Celsius to Fahrenheit)"
      ],
      "metadata": {
        "id": "obEPPeeUSPAL"
      }
    },
    {
      "cell_type": "code",
      "source": [
        "# Celsius to Fahrenheit converter\n",
        "def celsius_to_fahrenheit(celsius):\n",
        "    return (celsius * 9/5) + 32\n",
        "\n",
        "# Input temperature in Celsius\n",
        "celsius = float(input(\"Enter temperature in Celsius: \"))\n",
        "fahrenheit = celsius_to_fahrenheit(celsius)\n",
        "print(f\"{celsius}°C is {fahrenheit}°F.\")\n"
      ],
      "metadata": {
        "id": "C5Khn-LaSTJh"
      },
      "execution_count": null,
      "outputs": []
    },
    {
      "cell_type": "markdown",
      "source": [
        "10. Basic To-Do List"
      ],
      "metadata": {
        "id": "mTVSV5JGSVxn"
      }
    },
    {
      "cell_type": "code",
      "source": [
        "# Basic To-Do List\n",
        "def display_todo_list(todo_list):\n",
        "    if not todo_list:\n",
        "        print(\"Your to-do list is empty.\")\n",
        "    else:\n",
        "        print(\"Your to-do list:\")\n",
        "        for i, task in enumerate(todo_list, 1):\n",
        "            print(f\"{i}. {task}\")\n",
        "\n",
        "def todo_list():\n",
        "    todo_list = []\n",
        "    while True:\n",
        "        print(\"\\nOptions:\")\n",
        "        print(\"1. Add task\")\n",
        "        print(\"2. Remove task\")\n",
        "        print(\"3. View tasks\")\n",
        "        print(\"4. Exit\")\n",
        "\n",
        "        choice = input(\"Choose an option (1/2/3/4): \")\n",
        "\n",
        "        if choice == '1':\n",
        "            task = input(\"Enter a task: \")\n",
        "            todo_list.append(task)\n",
        "        elif choice == '2':\n",
        "            task_number = int(input(\"Enter the task number to remove: \"))\n",
        "            if 0 < task_number <= len(todo_list):\n",
        "                todo_list.pop(task_number - 1)\n",
        "            else:\n",
        "                print(\"Invalid task number.\")\n",
        "        elif choice == '3':\n",
        "            display_todo_list(todo_list)\n",
        "        elif choice == '4':\n",
        "            print(\"Goodbye!\")\n",
        "            break\n",
        "        else:\n",
        "            print(\"Invalid choice. Please try again.\")\n",
        "\n",
        "todo_list()\n"
      ],
      "metadata": {
        "id": "r-oNTfmWSWR5"
      },
      "execution_count": null,
      "outputs": []
    }
  ]
}