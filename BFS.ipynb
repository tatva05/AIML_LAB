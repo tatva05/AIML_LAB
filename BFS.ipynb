{
  "nbformat": 4,
  "nbformat_minor": 0,
  "metadata": {
    "colab": {
      "provenance": [],
      "authorship_tag": "ABX9TyM6gQZouboGzPF1f3DZHAOf",
      "include_colab_link": true
    },
    "kernelspec": {
      "name": "python3",
      "display_name": "Python 3"
    },
    "language_info": {
      "name": "python"
    }
  },
  "cells": [
    {
      "cell_type": "markdown",
      "metadata": {
        "id": "view-in-github",
        "colab_type": "text"
      },
      "source": [
        "<a href=\"https://colab.research.google.com/github/tatva05/AIML_LAB/blob/main/BFS.ipynb\" target=\"_parent\"><img src=\"https://colab.research.google.com/assets/colab-badge.svg\" alt=\"Open In Colab\"/></a>"
      ]
    },
    {
      "cell_type": "code",
      "execution_count": null,
      "metadata": {
        "id": "icpI2i71OuCm"
      },
      "outputs": [],
      "source": [
        "from collections import deque\n",
        "\n",
        "# BFS function\n",
        "def bfs(graph, start):\n",
        "    visited = set()  # To keep track of visited nodes\n",
        "    queue = deque([start])  # Queue to manage the BFS traversal order\n",
        "    visited.add(start)\n",
        "\n",
        "    while queue:\n",
        "        node = queue.popleft()  # Dequeue a vertex\n",
        "        print(node, end=\" \")  # Process the current node (here, we are printing it)\n",
        "\n",
        "        # Visit all adjacent vertices of the dequeued node\n",
        "        for neighbor in graph[node]:\n",
        "            if neighbor not in visited:\n",
        "                queue.append(neighbor)  # Enqueue non-visited neighbors\n",
        "                visited.add(neighbor)  # Mark neighbor as visited\n",
        "\n",
        "# Graph represented as an adjacency list (dictionary)\n",
        "graph = {\n",
        "    'A': ['B', 'C'],\n",
        "    'B': ['D', 'E'],\n",
        "    'C': ['F'],\n",
        "    'D': [],\n",
        "    'E': ['F'],\n",
        "    'F': []\n",
        "}\n",
        "\n",
        "# Start BFS from vertex 'A'\n",
        "bfs(graph, 'A')\n"
      ]
    }
  ]
}