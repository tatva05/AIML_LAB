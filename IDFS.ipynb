{
  "nbformat": 4,
  "nbformat_minor": 0,
  "metadata": {
    "colab": {
      "provenance": [],
      "authorship_tag": "ABX9TyMHWJxR19HHuTO0Wclyesx3",
      "include_colab_link": true
    },
    "kernelspec": {
      "name": "python3",
      "display_name": "Python 3"
    },
    "language_info": {
      "name": "python"
    }
  },
  "cells": [
    {
      "cell_type": "markdown",
      "metadata": {
        "id": "view-in-github",
        "colab_type": "text"
      },
      "source": [
        "<a href=\"https://colab.research.google.com/github/tatva05/AIML_LAB/blob/main/IDFS.ipynb\" target=\"_parent\"><img src=\"https://colab.research.google.com/assets/colab-badge.svg\" alt=\"Open In Colab\"/></a>"
      ]
    },
    {
      "cell_type": "code",
      "execution_count": null,
      "metadata": {
        "id": "GueOONNSQT9P"
      },
      "outputs": [],
      "source": [
        "# Depth-Limited Search (DLS)\n",
        "def dls(graph, node, goal, depth):\n",
        "    if depth == 0 and node == goal:\n",
        "        return True\n",
        "    if depth > 0:\n",
        "        for neighbor in graph.get(node, []):\n",
        "            if dls(graph, neighbor, goal, depth - 1):\n",
        "                return True\n",
        "    return False\n",
        "\n",
        "# Iterative Deepening DFS (IDFS)\n",
        "def iddfs(graph, start, goal, max_depth):\n",
        "    for depth in range(max_depth):\n",
        "        print(f\"Searching at depth: {depth}\")\n",
        "        if dls(graph, start, goal, depth):\n",
        "            return True\n",
        "    return False\n",
        "\n",
        "# Example graph as an adjacency list\n",
        "graph = {\n",
        "    'A': ['B', 'C'],\n",
        "    'B': ['D', 'E'],\n",
        "    'C': ['F'],\n",
        "    'D': [],\n",
        "    'E': ['F'],\n",
        "    'F': []\n",
        "}\n",
        "\n",
        "# Perform IDFS starting from node 'A', searching for 'F', with a max depth of 4\n",
        "goal_found = iddfs(graph, 'A', 'F', 4)\n",
        "\n",
        "if goal_found:\n",
        "    print(\"Goal found!\")\n",
        "else:\n",
        "    print(\"Goal not found!\")\n"
      ]
    }
  ]
}