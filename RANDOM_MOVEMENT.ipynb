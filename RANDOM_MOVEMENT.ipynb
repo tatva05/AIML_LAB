{
  "nbformat": 4,
  "nbformat_minor": 0,
  "metadata": {
    "colab": {
      "provenance": [],
      "authorship_tag": "ABX9TyOpIePdczO0h3zXF3sk3S/E",
      "include_colab_link": true
    },
    "kernelspec": {
      "name": "python3",
      "display_name": "Python 3"
    },
    "language_info": {
      "name": "python"
    }
  },
  "cells": [
    {
      "cell_type": "markdown",
      "metadata": {
        "id": "view-in-github",
        "colab_type": "text"
      },
      "source": [
        "<a href=\"https://colab.research.google.com/github/tatva05/AIML_LAB/blob/main/RANDOM_MOVEMENT.ipynb\" target=\"_parent\"><img src=\"https://colab.research.google.com/assets/colab-badge.svg\" alt=\"Open In Colab\"/></a>"
      ]
    },
    {
      "cell_type": "code",
      "execution_count": null,
      "metadata": {
        "id": "SBA_btOUQtjE"
      },
      "outputs": [],
      "source": [
        "import random\n",
        "\n",
        "# Define the grid dimensions\n",
        "grid_size = 5\n",
        "\n",
        "# Possible movements: (row change, col change)\n",
        "MOVEMENTS = {\n",
        "    \"UP\": (-1, 0),\n",
        "    \"DOWN\": (1, 0),\n",
        "    \"LEFT\": (0, -1),\n",
        "    \"RIGHT\": (0, 1)\n",
        "}\n",
        "\n",
        "# Function to move randomly\n",
        "def random_move(position, grid_size):\n",
        "    # Randomly choose a movement direction\n",
        "    direction = random.choice(list(MOVEMENTS.keys()))\n",
        "    movement = MOVEMENTS[direction]\n",
        "\n",
        "    # Compute the new position\n",
        "    new_position = (position[0] + movement[0], position[1] + movement[1])\n",
        "\n",
        "    # Ensure the agent stays within the grid boundaries\n",
        "    new_position = (\n",
        "        max(0, min(new_position[0], grid_size - 1)),  # Row boundary\n",
        "        max(0, min(new_position[1], grid_size - 1))   # Col boundary\n",
        "    )\n",
        "\n",
        "    print(f\"Moved {direction} to {new_position}\")\n",
        "    return new_position\n",
        "\n",
        "# Initial position in the center of the grid\n",
        "position = (grid_size // 2, grid_size // 2)\n",
        "\n",
        "# Simulate random movement for 10 steps\n",
        "for step in range(10):\n",
        "    position = random_move(position, grid_size)\n"
      ]
    }
  ]
}