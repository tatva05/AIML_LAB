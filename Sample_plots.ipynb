{
  "nbformat": 4,
  "nbformat_minor": 0,
  "metadata": {
    "colab": {
      "provenance": [],
      "authorship_tag": "ABX9TyNUf5OCh56/QkpvPaguGD7V",
      "include_colab_link": true
    },
    "kernelspec": {
      "name": "python3",
      "display_name": "Python 3"
    },
    "language_info": {
      "name": "python"
    }
  },
  "cells": [
    {
      "cell_type": "markdown",
      "metadata": {
        "id": "view-in-github",
        "colab_type": "text"
      },
      "source": [
        "<a href=\"https://colab.research.google.com/github/tatva05/AIML_LAB/blob/main/Sample_plots.ipynb\" target=\"_parent\"><img src=\"https://colab.research.google.com/assets/colab-badge.svg\" alt=\"Open In Colab\"/></a>"
      ]
    },
    {
      "cell_type": "markdown",
      "source": [
        "1. Bar Plot"
      ],
      "metadata": {
        "id": "4N4pPGwdTNma"
      }
    },
    {
      "cell_type": "code",
      "source": [
        "import matplotlib.pyplot as plt\n",
        "\n",
        "# Data for bar plot\n",
        "categories = ['A', 'B', 'C', 'D']\n",
        "values = [5, 7, 3, 8]\n",
        "\n",
        "# Create bar plot\n",
        "plt.bar(categories, values, color='skyblue')\n",
        "plt.title('Bar Plot Example')\n",
        "plt.xlabel('Categories')\n",
        "plt.ylabel('Values')\n",
        "plt.show()\n"
      ],
      "metadata": {
        "id": "tR5su4nvTODs"
      },
      "execution_count": null,
      "outputs": []
    },
    {
      "cell_type": "markdown",
      "source": [
        "2. Scatter Plot"
      ],
      "metadata": {
        "id": "mchXU5shTQBc"
      }
    },
    {
      "cell_type": "code",
      "source": [
        "# Data for scatter plot\n",
        "x = [1, 2, 3, 4, 5, 6, 7, 8, 9, 10]\n",
        "y = [2, 3, 5, 7, 6, 9, 11, 13, 10, 15]\n",
        "\n",
        "# Create scatter plot\n",
        "plt.scatter(x, y, color='green')\n",
        "plt.title('Scatter Plot Example')\n",
        "plt.xlabel('X-axis')\n",
        "plt.ylabel('Y-axis')\n",
        "plt.show()\n"
      ],
      "metadata": {
        "id": "M0ZFMS-vTTUT"
      },
      "execution_count": null,
      "outputs": []
    },
    {
      "cell_type": "markdown",
      "source": [
        "3. Histogram"
      ],
      "metadata": {
        "id": "xzQ_kpBqTV8O"
      }
    },
    {
      "cell_type": "code",
      "source": [
        "import numpy as np\n",
        "\n",
        "# Data for histogram\n",
        "data = np.random.randn(1000)  # 1000 random numbers from a normal distribution\n",
        "\n",
        "# Create histogram\n",
        "plt.hist(data, bins=30, color='purple', edgecolor='black')\n",
        "plt.title('Histogram Example')\n",
        "plt.xlabel('Value')\n",
        "plt.ylabel('Frequency')\n",
        "plt.show()\n"
      ],
      "metadata": {
        "id": "zVFhWZJDTYRs"
      },
      "execution_count": null,
      "outputs": []
    },
    {
      "cell_type": "markdown",
      "source": [
        "4. Box Plot"
      ],
      "metadata": {
        "id": "gwQp4YJeTaCM"
      }
    },
    {
      "cell_type": "code",
      "source": [
        "import seaborn as sns\n",
        "\n",
        "# Data for box plot\n",
        "data = [np.random.normal(0, std, 100) for std in range(1, 4)]\n",
        "\n",
        "# Create box plot\n",
        "plt.boxplot(data)\n",
        "plt.title('Box Plot Example')\n",
        "plt.xlabel('Dataset')\n",
        "plt.ylabel('Value')\n",
        "plt.show()\n"
      ],
      "metadata": {
        "id": "hkS6UZy8Tdnj"
      },
      "execution_count": null,
      "outputs": []
    },
    {
      "cell_type": "markdown",
      "source": [
        "5. Line Plot"
      ],
      "metadata": {
        "id": "r7TJJaZjTgya"
      }
    },
    {
      "cell_type": "code",
      "source": [
        "# Data for line plot\n",
        "x = np.linspace(0, 10, 100)\n",
        "y = np.sin(x)\n",
        "\n",
        "# Create line plot\n",
        "plt.plot(x, y, color='blue')\n",
        "plt.title('Line Plot Example')\n",
        "plt.xlabel('X-axis')\n",
        "plt.ylabel('Y-axis')\n",
        "plt.show()\n"
      ],
      "metadata": {
        "id": "eah5L02GTim0"
      },
      "execution_count": null,
      "outputs": []
    },
    {
      "cell_type": "markdown",
      "source": [
        "6. Pie Chart"
      ],
      "metadata": {
        "id": "1rbeRFowTjky"
      }
    },
    {
      "cell_type": "code",
      "source": [
        "# Data for pie chart\n",
        "sizes = [25, 35, 15, 25]\n",
        "labels = ['A', 'B', 'C', 'D']\n",
        "colors = ['gold', 'lightcoral', 'lightskyblue', 'lightgreen']\n",
        "\n",
        "# Create pie chart\n",
        "plt.pie(sizes, labels=labels, colors=colors, autopct='%1.1f%%', startangle=140)\n",
        "plt.axis('equal')  # Equal aspect ratio ensures that the pie chart is circular.\n",
        "plt.title('Pie Chart Example')\n",
        "plt.show()\n"
      ],
      "metadata": {
        "id": "RbXykFQQTmfs"
      },
      "execution_count": null,
      "outputs": []
    },
    {
      "cell_type": "markdown",
      "source": [
        "7. Seaborn Heatmap"
      ],
      "metadata": {
        "id": "rhPxy9wETpnd"
      }
    },
    {
      "cell_type": "code",
      "source": [
        "import seaborn as sns\n",
        "\n",
        "# Data for heatmap\n",
        "data = np.random.rand(10, 12)  # Random 10x12 matrix\n",
        "\n",
        "# Create heatmap\n",
        "sns.heatmap(data, annot=True, cmap='coolwarm')\n",
        "plt.title('Heatmap Example')\n",
        "plt.show()\n"
      ],
      "metadata": {
        "id": "nxh7eZxtTuNp"
      },
      "execution_count": null,
      "outputs": []
    },
    {
      "cell_type": "markdown",
      "source": [
        "8. Seaborn Pair Plot"
      ],
      "metadata": {
        "id": "GqvkAlU-TzMp"
      }
    },
    {
      "cell_type": "code",
      "source": [
        "# Load a dataset from seaborn\n",
        "iris = sns.load_dataset('iris')\n",
        "\n",
        "# Create pair plot\n",
        "sns.pairplot(iris, hue='species')\n",
        "plt.title('Pair Plot Example')\n",
        "plt.show()\n"
      ],
      "metadata": {
        "id": "M3Ji28VLT1Jl"
      },
      "execution_count": null,
      "outputs": []
    }
  ]
}